{
 "cells": [
  {
   "cell_type": "code",
   "execution_count": null,
   "metadata": {},
   "outputs": [],
   "source": []
  },
  {
   "cell_type": "code",
   "execution_count": 1,
   "metadata": {},
   "outputs": [],
   "source": [
    "import re\n",
    "import pandas as pd\n",
    "import jieba\n",
    "from collections import Counter\n",
    "from bs4 import BeautifulSoup\n",
    "import numpy as np"
   ]
  },
  {
   "cell_type": "code",
   "execution_count": 2,
   "metadata": {},
   "outputs": [
    {
     "name": "stdout",
     "output_type": "stream",
     "text": [
      "<class 'pandas.core.frame.DataFrame'>\n",
      "RangeIndex: 616 entries, 0 to 615\n",
      "Data columns (total 7 columns):\n",
      " #   Column        Non-Null Count  Dtype \n",
      "---  ------        --------------  ----- \n",
      " 0   Unnamed: 0    616 non-null    int64 \n",
      " 1   TITLE         616 non-null    object\n",
      " 2   Abstract      467 non-null    object\n",
      " 3   source&dates  616 non-null    object\n",
      " 4   source        616 non-null    object\n",
      " 5   dates         616 non-null    object\n",
      " 6   Url           616 non-null    object\n",
      "dtypes: int64(1), object(6)\n",
      "memory usage: 33.8+ KB\n"
     ]
    }
   ],
   "source": [
    "# read .csv to df\n",
    "df = pd.read_csv('/Users/zhangfurong/Desktop/coding demo/Datacleaned.csv', encoding='utf8')\n",
    "# delete the col 'source&data'\n",
    "#df.drop(['source&dates'],axis=1,inplace=True)\n",
    "# read information of df\n",
    "df.info()"
   ]
  },
  {
   "cell_type": "code",
   "execution_count": 3,
   "metadata": {},
   "outputs": [
    {
     "data": {
      "text/html": [
       "<div>\n",
       "<style scoped>\n",
       "    .dataframe tbody tr th:only-of-type {\n",
       "        vertical-align: middle;\n",
       "    }\n",
       "\n",
       "    .dataframe tbody tr th {\n",
       "        vertical-align: top;\n",
       "    }\n",
       "\n",
       "    .dataframe thead th {\n",
       "        text-align: right;\n",
       "    }\n",
       "</style>\n",
       "<table border=\"1\" class=\"dataframe\">\n",
       "  <thead>\n",
       "    <tr style=\"text-align: right;\">\n",
       "      <th></th>\n",
       "      <th>Unnamed: 0</th>\n",
       "      <th>TITLE</th>\n",
       "      <th>Abstract</th>\n",
       "      <th>source&amp;dates</th>\n",
       "      <th>source</th>\n",
       "      <th>dates</th>\n",
       "      <th>Url</th>\n",
       "    </tr>\n",
       "  </thead>\n",
       "  <tbody>\n",
       "    <tr>\n",
       "      <th>0</th>\n",
       "      <td>0</td>\n",
       "      <td>武汉理工研究生自杀 研究生为何会自杀</td>\n",
       "      <td>现在的学生压力很大，如果一旦承受不了，甚至会做出自杀的事情来，近日网曝武汉理工研究生自杀，而...</td>\n",
       "      <td>新淮安网    2018-04-01</td>\n",
       "      <td>新淮安网</td>\n",
       "      <td>2018-04-01</td>\n",
       "      <td>https://www.ringdata.com/news/detail?id=201804...</td>\n",
       "    </tr>\n",
       "    <tr>\n",
       "      <th>1</th>\n",
       "      <td>1</td>\n",
       "      <td>美大学生在校内开枪扫射后自杀</td>\n",
       "      <td>胡乱开枪 　　枪击发生在得克萨斯大学奥斯汀分校。校方发言人朗达·韦尔登说，上午8时许，一名男...</td>\n",
       "      <td>燕赵晚报    2010-09-30</td>\n",
       "      <td>燕赵晚报</td>\n",
       "      <td>2010-09-30</td>\n",
       "      <td>https://www.ringdata.com/news/detail?id=201009...</td>\n",
       "    </tr>\n",
       "    <tr>\n",
       "      <th>2</th>\n",
       "      <td>2</td>\n",
       "      <td>女研究生宿舍内自杀</td>\n",
       "      <td>9日，网上各大论坛热传几近相同的帖子，上海海事大学海商法女研究生杨元元在宿舍卫生间自杀身亡，...</td>\n",
       "      <td>滁州网    2009-12-14</td>\n",
       "      <td>滁州网</td>\n",
       "      <td>2009-12-14</td>\n",
       "      <td>https://www.ringdata.com/news/detail?id=200912...</td>\n",
       "    </tr>\n",
       "    <tr>\n",
       "      <th>3</th>\n",
       "      <td>3</td>\n",
       "      <td>女研究生跳运河自杀</td>\n",
       "      <td>20日上午8时30分许，北京通州区东关大桥北侧，北京物资学院一名研二女生被发现跳入运河轻生。...</td>\n",
       "      <td>呼和浩特日报    2011-02-22</td>\n",
       "      <td>呼和浩特日报</td>\n",
       "      <td>2011-02-22</td>\n",
       "      <td>https://www.ringdata.com/news/detail?id=201102...</td>\n",
       "    </tr>\n",
       "    <tr>\n",
       "      <th>4</th>\n",
       "      <td>4</td>\n",
       "      <td>论文“卡壳”，女研究生自杀</td>\n",
       "      <td>A05-A06版</td>\n",
       "      <td>华声在线网    2011-07-08</td>\n",
       "      <td>华声在线网</td>\n",
       "      <td>2011-07-08</td>\n",
       "      <td>https://www.ringdata.com/news/detail?id=201107...</td>\n",
       "    </tr>\n",
       "  </tbody>\n",
       "</table>\n",
       "</div>"
      ],
      "text/plain": [
       "   Unnamed: 0               TITLE  \\\n",
       "0           0  武汉理工研究生自杀 研究生为何会自杀   \n",
       "1           1      美大学生在校内开枪扫射后自杀   \n",
       "2           2           女研究生宿舍内自杀   \n",
       "3           3           女研究生跳运河自杀   \n",
       "4           4       论文“卡壳”，女研究生自杀   \n",
       "\n",
       "                                            Abstract          source&dates  \\\n",
       "0  现在的学生压力很大，如果一旦承受不了，甚至会做出自杀的事情来，近日网曝武汉理工研究生自杀，而...    新淮安网    2018-04-01   \n",
       "1  胡乱开枪 　　枪击发生在得克萨斯大学奥斯汀分校。校方发言人朗达·韦尔登说，上午8时许，一名男...    燕赵晚报    2010-09-30   \n",
       "2  9日，网上各大论坛热传几近相同的帖子，上海海事大学海商法女研究生杨元元在宿舍卫生间自杀身亡，...     滁州网    2009-12-14   \n",
       "3  20日上午8时30分许，北京通州区东关大桥北侧，北京物资学院一名研二女生被发现跳入运河轻生。...  呼和浩特日报    2011-02-22   \n",
       "4                                           A05-A06版   华声在线网    2011-07-08   \n",
       "\n",
       "   source       dates                                                Url  \n",
       "0    新淮安网  2018-04-01  https://www.ringdata.com/news/detail?id=201804...  \n",
       "1    燕赵晚报  2010-09-30  https://www.ringdata.com/news/detail?id=201009...  \n",
       "2     滁州网  2009-12-14  https://www.ringdata.com/news/detail?id=200912...  \n",
       "3  呼和浩特日报  2011-02-22  https://www.ringdata.com/news/detail?id=201102...  \n",
       "4   华声在线网  2011-07-08  https://www.ringdata.com/news/detail?id=201107...  "
      ]
     },
     "execution_count": 3,
     "metadata": {},
     "output_type": "execute_result"
    }
   ],
   "source": [
    "# read the head\n",
    "df.head()"
   ]
  },
  {
   "cell_type": "code",
   "execution_count": 4,
   "metadata": {},
   "outputs": [],
   "source": [
    "# define variable: titles(represent the col 'TITLE'), Abstrract(represent the col 'Abstract')\n",
    "titles = [str(df['TITLE'].tolist())]\n",
    "abstract = [str(df['Abstract'].tolist())]"
   ]
  },
  {
   "cell_type": "code",
   "execution_count": 5,
   "metadata": {},
   "outputs": [],
   "source": [
    "# define the function to find out token\n",
    "def token(string):\n",
    "    return re.findall('\\w+',string)"
   ]
  },
  {
   "cell_type": "code",
   "execution_count": 6,
   "metadata": {},
   "outputs": [],
   "source": [
    "# Calling 'token(string)' fuunction\n",
    "title_clean = [''.join(token(str(s))) for s in titles]\n",
    "abstract_clean =  [''.join(token(str(s))) for s in abstract]\n",
    "# define array have two lines, one line is title_clean, another one is abstract_clean\n",
    "inputs = [title_clean, abstract_clean]\n",
    "#print(inputs)"
   ]
  },
  {
   "cell_type": "code",
   "execution_count": 7,
   "metadata": {},
   "outputs": [
    {
     "name": "stderr",
     "output_type": "stream",
     "text": [
      "Building prefix dict from the default dictionary ...\n",
      "Loading model from cache /var/folders/7f/pbyrqsk9167dfkx9p9vwj6q00000gn/T/jieba.cache\n",
      "Loading model cost 0.900 seconds.\n",
      "Prefix dict has been built successfully.\n"
     ]
    }
   ],
   "source": [
    "# load the dictionary that we can defined some particular word, like '网贷'\n",
    "jieba.load_userdict('/Users/zhangfurong/Desktop/coding demo/stopwords-master/userdict.txt')"
   ]
  },
  {
   "cell_type": "code",
   "execution_count": 8,
   "metadata": {},
   "outputs": [],
   "source": [
    "# define the function to upload the stop_word.txt\n",
    "def stopwords_list(file_path):\n",
    "    stopwords = [line.strip() for line in open(file_path, 'r').readlines()]\n",
    "    return stopwords"
   ]
  },
  {
   "cell_type": "code",
   "execution_count": 9,
   "metadata": {},
   "outputs": [],
   "source": [
    "# define the cut_word function\n",
    "def seg_sentence(sentence):\n",
    "    sentence_seg = jieba.cut(sentence.strip())\n",
    "    stopwords = stopwords_list('/Users/zhangfurong/Desktop/coding demo/stopwords-master/stopwords_definedbyself.txt')\n",
    "    out_str = ''\n",
    "    for word in sentence_seg:\n",
    "        if word not in stopwords:\n",
    "            if word != '\\t':\n",
    "                out_str += word\n",
    "                out_str += \" \"\n",
    "    return out_str"
   ]
  },
  {
   "cell_type": "code",
   "execution_count": 10,
   "metadata": {},
   "outputs": [],
   "source": [
    "# define the function to compute ratio of frequency of one word\n",
    "def tf(word, count):\n",
    "    return count[word] / sum(count.values())"
   ]
  },
  {
   "cell_type": "code",
   "execution_count": 11,
   "metadata": {},
   "outputs": [
    {
     "name": "stdout",
     "output_type": "stream",
     "text": [
      "4090\n",
      "13374\n",
      "Top words in document 1\n",
      "\tWord: 女,TF: 0.04377\n",
      "\tWord: 跳楼自杀,TF: 0.01394\n",
      "\tWord: 疑因,TF: 0.00782\n",
      "\tWord: 自杀身亡,TF: 0.00782\n",
      "\tWord: 警方,TF: 0.00782\n",
      "\tWord: 欲,TF: 0.00685\n",
      "\tWord: 遗书,TF: 0.0066\n",
      "\tWord: 压力,TF: 0.00636\n",
      "\tWord: 遭,TF: 0.00636\n",
      "\tWord: 诈骗,TF: 0.00636\n",
      "\tWord: 网友,TF: 0.00611\n",
      "\tWord: 贷,TF: 0.00587\n",
      "\tWord: 宿舍,TF: 0.00562\n",
      "\tWord: 内,TF: 0.00562\n",
      "\tWord: 身亡,TF: 0.00562\n",
      "\tWord: 烧炭,TF: 0.00562\n",
      "\tWord: 电信,TF: 0.00538\n",
      "\tWord: 一女,TF: 0.00489\n",
      "\tWord: 学费,TF: 0.00489\n",
      "\tWord: 跳海自杀,TF: 0.00465\n",
      "Top words in document 2\n",
      "\tWord: 女,TF: 0.00636\n",
      "\tWord: 警方,TF: 0.00389\n",
      "\tWord: 身亡,TF: 0.00359\n",
      "\tWord: 女生,TF: 0.00344\n",
      "\tWord: 消息,TF: 0.00314\n",
      "\tWord: 网友,TF: 0.00307\n",
      "\tWord: 近日,TF: 0.00299\n",
      "\tWord: 网,TF: 0.00299\n",
      "\tWord: 说,TF: 0.00292\n",
      "\tWord: 不,TF: 0.00284\n",
      "\tWord: 女儿,TF: 0.00277\n",
      "\tWord: 贷,TF: 0.00277\n",
      "\tWord: 选择,TF: 0.00269\n",
      "\tWord: 调查,TF: 0.00269\n",
      "\tWord: 公安局,TF: 0.00262\n",
      "\tWord: 遗书,TF: 0.00254\n",
      "\tWord: 自杀身亡,TF: 0.00247\n",
      "\tWord: 生命,TF: 0.00247\n",
      "\tWord: 跳楼自杀,TF: 0.00247\n",
      "\tWord: 高校,TF: 0.00239\n"
     ]
    }
   ],
   "source": [
    "if __name__ == '__main__':\n",
    "    count_list = []\n",
    "    for line in inputs:\n",
    "        # WordCut - find out cut-words in titles and abstract and delete\n",
    "        word_cut = []\n",
    "        line_seg = seg_sentence(str(line))\n",
    "        # WordCount\n",
    "        count = dict(Counter(line_seg.split(\" \"))) #result of wordcount\n",
    "        count_list.append(count)\n",
    "        print(sum(count.values())) \n",
    "        # print(count_list) #print the total number dic of wordcount\n",
    "    # TF \n",
    "    for i, count in enumerate(count_list):\n",
    "        print(\"Top words in document {}\".format(i + 1))\n",
    "        scores = {word: tf(word, count) for word in count} # Calling mentionabove function to calculate frequency\n",
    "        sorted_words = sorted(scores.items(), key=lambda x: x[1], reverse=True) # rank TF\n",
    "        for word, score in sorted_words[:20]: # print top 20 \n",
    "            print(\"\\tWord: {},TF: {}\".format(word, round(score, 5))) "
   ]
  },
  {
   "cell_type": "code",
   "execution_count": null,
   "metadata": {},
   "outputs": [],
   "source": []
  },
  {
   "cell_type": "code",
   "execution_count": null,
   "metadata": {},
   "outputs": [],
   "source": []
  }
 ],
 "metadata": {
  "kernelspec": {
   "display_name": "Python 3",
   "language": "python",
   "name": "python3"
  },
  "language_info": {
   "codemirror_mode": {
    "name": "ipython",
    "version": 3
   },
   "file_extension": ".py",
   "mimetype": "text/x-python",
   "name": "python",
   "nbconvert_exporter": "python",
   "pygments_lexer": "ipython3",
   "version": "3.8.3"
  }
 },
 "nbformat": 4,
 "nbformat_minor": 4
}
